{
  "nbformat": 4,
  "nbformat_minor": 0,
  "metadata": {
    "colab": {
      "provenance": []
    },
    "kernelspec": {
      "name": "python3",
      "display_name": "Python 3"
    },
    "language_info": {
      "name": "python"
    }
  },
  "cells": [
    {
      "cell_type": "code",
      "source": [
        "def is_prime(n):\n",
        "  if n <= 1 :\n",
        "    return False\n",
        "  for i in range(2, n):\n",
        "    if n % i == 0:\n",
        "      return False\n",
        "  return True\n",
        "\n",
        "\n",
        "n = int(input(\"Enter the nuber you want to check: \"))\n",
        "print(\"The Check Result is : \")\n",
        "print(is_prime(n))\n",
        ""
      ],
      "metadata": {
        "colab": {
          "base_uri": "https://localhost:8080/"
        },
        "id": "TlEYFZvK0m3U",
        "outputId": "750d696f-d35c-49d5-db2b-6bf804fb8e3e"
      },
      "execution_count": 22,
      "outputs": [
        {
          "output_type": "stream",
          "name": "stdout",
          "text": [
            "Enter the nuber you want to check: 10\n",
            "The Check Result is : \n",
            "False\n"
          ]
        }
      ]
    },
    {
      "cell_type": "code",
      "source": [
        "def calc (x , y , opp ):\n",
        "  if opp == '+':\n",
        "    return x + y\n",
        "  elif opp == '-':\n",
        "    return x - y\n",
        "  elif opp == '*':\n",
        "    return x * y\n",
        "  elif opp == '/':\n",
        "    if y == 0:\n",
        "      return None\n",
        "    return x / y\n",
        "\n",
        "x= int(input(\"Please enter the first number: \"))\n",
        "y= int(input(\"Please enter the second number: \"))\n",
        "opp= input(\"Please enter the operator: \")\n",
        "\n",
        "print(f\"1st number : {x}\")\n",
        "print(f\"2nd number : {y}\")\n",
        "print(f\"operator : {opp}\")\n",
        "print(f\"Result : {calc(x , y , opp)}\")"
      ],
      "metadata": {
        "colab": {
          "base_uri": "https://localhost:8080/"
        },
        "id": "8RU67k241vQg",
        "outputId": "f83d9eaf-dc49-422f-a555-ce0c4b207a0e"
      },
      "execution_count": 23,
      "outputs": [
        {
          "output_type": "stream",
          "name": "stdout",
          "text": [
            "Please enter the first number: 5\n",
            "Please enter the second number: 5\n",
            "Please enter the operator: +\n",
            "1st number : 5\n",
            "2nd number : 5\n",
            "operator : +\n",
            "Result : 10\n"
          ]
        }
      ]
    }
  ]
}